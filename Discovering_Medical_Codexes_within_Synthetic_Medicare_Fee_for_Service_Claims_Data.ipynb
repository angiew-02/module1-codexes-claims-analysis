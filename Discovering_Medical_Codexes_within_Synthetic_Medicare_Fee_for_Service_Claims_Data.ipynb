{
  "nbformat": 4,
  "nbformat_minor": 0,
  "metadata": {
    "colab": {
      "provenance": [],
      "authorship_tag": "ABX9TyPb4aw9ya82/gCZfztol97q",
      "include_colab_link": true
    },
    "kernelspec": {
      "name": "python3",
      "display_name": "Python 3"
    },
    "language_info": {
      "name": "python"
    }
  },
  "cells": [
    {
      "cell_type": "markdown",
      "metadata": {
        "id": "view-in-github",
        "colab_type": "text"
      },
      "source": [
        "<a href=\"https://colab.research.google.com/github/angiew-02/module1-codexes-claims-analysis/blob/main/Discovering_Medical_Codexes_within_Synthetic_Medicare_Fee_for_Service_Claims_Data.ipynb\" target=\"_parent\"><img src=\"https://colab.research.google.com/assets/colab-badge.svg\" alt=\"Open In Colab\"/></a>"
      ]
    },
    {
      "cell_type": "code",
      "execution_count": null,
      "metadata": {
        "id": "UUWKDOMDW8N5"
      },
      "outputs": [],
      "source": [
        "import pandas as pd"
      ]
    },
    {
      "cell_type": "code",
      "source": [
        "df = pd.read_csv('https://data.cms.gov/sites/default/files/2023-04/67157de9-d962-4af0-bf0e-3578b3afec58/inpatient.csv')"
      ],
      "metadata": {
        "id": "Kkq3Nmk8l3zv"
      },
      "execution_count": null,
      "outputs": []
    },
    {
      "cell_type": "code",
      "source": [
        "df = pd.read_csv(\n",
        "    'https://data.cms.gov/sites/default/files/2023-04/67157de9-d962-4af0-bf0e-3578b3afec58/inpatient.csv',\n",
        "    sep='|'\n",
        "    )"
      ],
      "metadata": {
        "colab": {
          "base_uri": "https://localhost:8080/"
        },
        "id": "5xR84UKnm3j-",
        "outputId": "d968c222-03a3-4e22-f3b8-9c30e0de12ba"
      },
      "execution_count": null,
      "outputs": [
        {
          "output_type": "stream",
          "name": "stderr",
          "text": [
            "<ipython-input-4-66743afc59af>:1: DtypeWarning: Columns (168,169,170,171,172,173,174,175,176,177,178,179,180,181,182,183,184,185,186,187,188,189) have mixed types. Specify dtype option on import or set low_memory=False.\n",
            "  df = pd.read_csv(\n"
          ]
        }
      ]
    },
    {
      "cell_type": "code",
      "source": [
        "print(df.head())"
      ],
      "metadata": {
        "colab": {
          "base_uri": "https://localhost:8080/"
        },
        "id": "oudzRwB77iL8",
        "outputId": "657f0ad9-0af3-4ba8-d49a-fb0ba60286d8"
      },
      "execution_count": null,
      "outputs": [
        {
          "output_type": "stream",
          "name": "stdout",
          "text": [
            "          BENE_ID          CLM_ID NCH_NEAR_LINE_REC_IDENT_CD  NCH_CLM_TYPE_CD  \\\n",
            "0 -10000010254618 -10000930037831                          V               60   \n",
            "1 -10000010254653 -10000930038030                          V               60   \n",
            "2 -10000010254653 -10000930038031                          V               60   \n",
            "3 -10000010254656 -10000930038162                          V               60   \n",
            "4 -10000010254656 -10000930038162                          V               60   \n",
            "\n",
            "   CLM_FROM_DT  CLM_THRU_DT NCH_WKLY_PROC_DT  FI_CLM_PROC_DT  \\\n",
            "0  25-Mar-2015  25-Mar-2015      27-Mar-2015             NaN   \n",
            "1  24-Sep-2015  24-Sep-2015      25-Sep-2015             NaN   \n",
            "2  09-May-2017  10-May-2017      12-May-2017             NaN   \n",
            "3  14-Jan-2017  14-Jan-2017      20-Jan-2017             NaN   \n",
            "4  14-Jan-2017  14-Jan-2017      20-Jan-2017             NaN   \n",
            "\n",
            "   CLAIM_QUERY_CODE PRVDR_NUM  ...  PRCDR_DT24  ICD_PRCDR_CD25  PRCDR_DT25  \\\n",
            "0                 3    011500  ...         NaN             NaN         NaN   \n",
            "1                 3    017129  ...         NaN             NaN         NaN   \n",
            "2                 3    010052  ...         NaN             NaN         NaN   \n",
            "3                 3    015455  ...         NaN             NaN         NaN   \n",
            "4                 3    015455  ...         NaN             NaN         NaN   \n",
            "\n",
            "   IME_OP_CLM_VAL_AMT DSH_OP_CLM_VAL_AMT  CLM_UNCOMPD_CARE_PMT_AMT  \\\n",
            "0                   0                  0                       NaN   \n",
            "1                   0                  0                       NaN   \n",
            "2                   0                  0                       NaN   \n",
            "3                   0                  0                       NaN   \n",
            "4                   0                  0                       NaN   \n",
            "\n",
            "   CLM_LINE_NUM REV_CNTR  HCPCS_CD  REV_CNTR_DDCTBL_COINSRNC_CD  \n",
            "0             1      450     99221                          NaN  \n",
            "1             1      450     99221                          NaN  \n",
            "2             1        1     99024                          3.0  \n",
            "3             1      450     73610                          3.0  \n",
            "4             2      450     29515                          3.0  \n",
            "\n",
            "[5 rows x 197 columns]\n"
          ]
        }
      ]
    },
    {
      "cell_type": "code",
      "source": [
        "#### column names\n",
        "for x in df.columns:\n",
        "  print(x)"
      ],
      "metadata": {
        "colab": {
          "base_uri": "https://localhost:8080/"
        },
        "id": "h1Kd6N1f9aE0",
        "outputId": "83d4e37c-6c56-49dd-bd0b-e64a0278bc7b"
      },
      "execution_count": null,
      "outputs": [
        {
          "output_type": "stream",
          "name": "stdout",
          "text": [
            "BENE_ID\n",
            "CLM_ID\n",
            "NCH_NEAR_LINE_REC_IDENT_CD\n",
            "NCH_CLM_TYPE_CD\n",
            "CLM_FROM_DT\n",
            "CLM_THRU_DT\n",
            "NCH_WKLY_PROC_DT\n",
            "FI_CLM_PROC_DT\n",
            "CLAIM_QUERY_CODE\n",
            "PRVDR_NUM\n",
            "CLM_FAC_TYPE_CD\n",
            "CLM_SRVC_CLSFCTN_TYPE_CD\n",
            "CLM_FREQ_CD\n",
            "FI_NUM\n",
            "CLM_MDCR_NON_PMT_RSN_CD\n",
            "CLM_PMT_AMT\n",
            "NCH_PRMRY_PYR_CLM_PD_AMT\n",
            "NCH_PRMRY_PYR_CD\n",
            "FI_CLM_ACTN_CD\n",
            "PRVDR_STATE_CD\n",
            "ORG_NPI_NUM\n",
            "AT_PHYSN_UPIN\n",
            "AT_PHYSN_NPI\n",
            "OP_PHYSN_UPIN\n",
            "OP_PHYSN_NPI\n",
            "OT_PHYSN_UPIN\n",
            "OT_PHYSN_NPI\n",
            "CLM_MCO_PD_SW\n",
            "PTNT_DSCHRG_STUS_CD\n",
            "CLM_PPS_IND_CD\n",
            "CLM_TOT_CHRG_AMT\n",
            "CLM_ADMSN_DT\n",
            "CLM_IP_ADMSN_TYPE_CD\n",
            "CLM_SRC_IP_ADMSN_CD\n",
            "NCH_PTNT_STATUS_IND_CD\n",
            "CLM_PASS_THRU_PER_DIEM_AMT\n",
            "NCH_BENE_IP_DDCTBL_AMT\n",
            "NCH_BENE_PTA_COINSRNC_LBLTY_AM\n",
            "NCH_BENE_BLOOD_DDCTBL_LBLTY_AM\n",
            "NCH_PROFNL_CMPNT_CHRG_AMT\n",
            "NCH_IP_NCVRD_CHRG_AMT\n",
            "NCH_IP_TOT_DDCTN_AMT\n",
            "CLM_TOT_PPS_CPTL_AMT\n",
            "CLM_PPS_CPTL_FSP_AMT\n",
            "CLM_PPS_CPTL_OUTLIER_AMT\n",
            "CLM_PPS_CPTL_DSPRPRTNT_SHR_AMT\n",
            "CLM_PPS_CPTL_IME_AMT\n",
            "CLM_PPS_CPTL_EXCPTN_AMT\n",
            "CLM_PPS_OLD_CPTL_HLD_HRMLS_AMT\n",
            "CLM_PPS_CPTL_DRG_WT_NUM\n",
            "CLM_UTLZTN_DAY_CNT\n",
            "BENE_TOT_COINSRNC_DAYS_CNT\n",
            "BENE_LRD_USED_CNT\n",
            "CLM_NON_UTLZTN_DAYS_CNT\n",
            "NCH_BLOOD_PNTS_FRNSHD_QTY\n",
            "NCH_VRFD_NCVRD_STAY_FROM_DT\n",
            "NCH_VRFD_NCVRD_STAY_THRU_DT\n",
            "NCH_ACTV_OR_CVRD_LVL_CARE_THRU\n",
            "NCH_BENE_MDCR_BNFTS_EXHTD_DT_I\n",
            "NCH_BENE_DSCHRG_DT\n",
            "CLM_DRG_CD\n",
            "CLM_DRG_OUTLIER_STAY_CD\n",
            "NCH_DRG_OUTLIER_APRVD_PMT_AMT\n",
            "ADMTG_DGNS_CD\n",
            "PRNCPAL_DGNS_CD\n",
            "ICD_DGNS_CD1\n",
            "CLM_POA_IND_SW1\n",
            "ICD_DGNS_CD2\n",
            "CLM_POA_IND_SW2\n",
            "ICD_DGNS_CD3\n",
            "CLM_POA_IND_SW3\n",
            "ICD_DGNS_CD4\n",
            "CLM_POA_IND_SW4\n",
            "ICD_DGNS_CD5\n",
            "CLM_POA_IND_SW5\n",
            "ICD_DGNS_CD6\n",
            "CLM_POA_IND_SW6\n",
            "ICD_DGNS_CD7\n",
            "CLM_POA_IND_SW7\n",
            "ICD_DGNS_CD8\n",
            "CLM_POA_IND_SW8\n",
            "ICD_DGNS_CD9\n",
            "CLM_POA_IND_SW9\n",
            "ICD_DGNS_CD10\n",
            "CLM_POA_IND_SW10\n",
            "ICD_DGNS_CD11\n",
            "CLM_POA_IND_SW11\n",
            "ICD_DGNS_CD12\n",
            "CLM_POA_IND_SW12\n",
            "ICD_DGNS_CD13\n",
            "CLM_POA_IND_SW13\n",
            "ICD_DGNS_CD14\n",
            "CLM_POA_IND_SW14\n",
            "ICD_DGNS_CD15\n",
            "CLM_POA_IND_SW15\n",
            "ICD_DGNS_CD16\n",
            "CLM_POA_IND_SW16\n",
            "ICD_DGNS_CD17\n",
            "CLM_POA_IND_SW17\n",
            "ICD_DGNS_CD18\n",
            "CLM_POA_IND_SW18\n",
            "ICD_DGNS_CD19\n",
            "CLM_POA_IND_SW19\n",
            "ICD_DGNS_CD20\n",
            "CLM_POA_IND_SW20\n",
            "ICD_DGNS_CD21\n",
            "CLM_POA_IND_SW21\n",
            "ICD_DGNS_CD22\n",
            "CLM_POA_IND_SW22\n",
            "ICD_DGNS_CD23\n",
            "CLM_POA_IND_SW23\n",
            "ICD_DGNS_CD24\n",
            "CLM_POA_IND_SW24\n",
            "ICD_DGNS_CD25\n",
            "CLM_POA_IND_SW25\n",
            "FST_DGNS_E_CD\n",
            "ICD_DGNS_E_CD1\n",
            "CLM_E_POA_IND_SW1\n",
            "ICD_DGNS_E_CD2\n",
            "CLM_E_POA_IND_SW2\n",
            "ICD_DGNS_E_CD3\n",
            "CLM_E_POA_IND_SW3\n",
            "ICD_DGNS_E_CD4\n",
            "CLM_E_POA_IND_SW4\n",
            "ICD_DGNS_E_CD5\n",
            "CLM_E_POA_IND_SW5\n",
            "ICD_DGNS_E_CD6\n",
            "CLM_E_POA_IND_SW6\n",
            "ICD_DGNS_E_CD7\n",
            "CLM_E_POA_IND_SW7\n",
            "ICD_DGNS_E_CD8\n",
            "CLM_E_POA_IND_SW8\n",
            "ICD_DGNS_E_CD9\n",
            "CLM_E_POA_IND_SW9\n",
            "ICD_DGNS_E_CD10\n",
            "CLM_E_POA_IND_SW10\n",
            "ICD_DGNS_E_CD11\n",
            "CLM_E_POA_IND_SW11\n",
            "ICD_DGNS_E_CD12\n",
            "CLM_E_POA_IND_SW12\n",
            "ICD_PRCDR_CD1\n",
            "PRCDR_DT1\n",
            "ICD_PRCDR_CD2\n",
            "PRCDR_DT2\n",
            "ICD_PRCDR_CD3\n",
            "PRCDR_DT3\n",
            "ICD_PRCDR_CD4\n",
            "PRCDR_DT4\n",
            "ICD_PRCDR_CD5\n",
            "PRCDR_DT5\n",
            "ICD_PRCDR_CD6\n",
            "PRCDR_DT6\n",
            "ICD_PRCDR_CD7\n",
            "PRCDR_DT7\n",
            "ICD_PRCDR_CD8\n",
            "PRCDR_DT8\n",
            "ICD_PRCDR_CD9\n",
            "PRCDR_DT9\n",
            "ICD_PRCDR_CD10\n",
            "PRCDR_DT10\n",
            "ICD_PRCDR_CD11\n",
            "PRCDR_DT11\n",
            "ICD_PRCDR_CD12\n",
            "PRCDR_DT12\n",
            "ICD_PRCDR_CD13\n",
            "PRCDR_DT13\n",
            "ICD_PRCDR_CD14\n",
            "PRCDR_DT14\n",
            "ICD_PRCDR_CD15\n",
            "PRCDR_DT15\n",
            "ICD_PRCDR_CD16\n",
            "PRCDR_DT16\n",
            "ICD_PRCDR_CD17\n",
            "PRCDR_DT17\n",
            "ICD_PRCDR_CD18\n",
            "PRCDR_DT18\n",
            "ICD_PRCDR_CD19\n",
            "PRCDR_DT19\n",
            "ICD_PRCDR_CD20\n",
            "PRCDR_DT20\n",
            "ICD_PRCDR_CD21\n",
            "PRCDR_DT21\n",
            "ICD_PRCDR_CD22\n",
            "PRCDR_DT22\n",
            "ICD_PRCDR_CD23\n",
            "PRCDR_DT23\n",
            "ICD_PRCDR_CD24\n",
            "PRCDR_DT24\n",
            "ICD_PRCDR_CD25\n",
            "PRCDR_DT25\n",
            "IME_OP_CLM_VAL_AMT\n",
            "DSH_OP_CLM_VAL_AMT\n",
            "CLM_UNCOMPD_CARE_PMT_AMT\n",
            "CLM_LINE_NUM\n",
            "REV_CNTR\n",
            "HCPCS_CD\n",
            "REV_CNTR_DDCTBL_COINSRNC_CD\n"
          ]
        }
      ]
    },
    {
      "cell_type": "code",
      "source": [
        "## get unique count of CLM_ID\n",
        "count = df.CLM_ID.unique()\n",
        "len(count)"
      ],
      "metadata": {
        "colab": {
          "base_uri": "https://localhost:8080/"
        },
        "id": "X2efB7p3-l07",
        "outputId": "9579bfc6-3ef5-4374-c7ac-138d5fae1e67"
      },
      "execution_count": null,
      "outputs": [
        {
          "output_type": "execute_result",
          "data": {
            "text/plain": [
              "20867"
            ]
          },
          "metadata": {},
          "execution_count": 7
        }
      ]
    },
    {
      "cell_type": "code",
      "source": [
        "df.dtypes"
      ],
      "metadata": {
        "colab": {
          "base_uri": "https://localhost:8080/",
          "height": 458
        },
        "id": "J69Wq4w-A4O1",
        "outputId": "c3baded3-bc4f-4e38-fc4f-0c0f3248af1c"
      },
      "execution_count": null,
      "outputs": [
        {
          "output_type": "execute_result",
          "data": {
            "text/plain": [
              "BENE_ID                          int64\n",
              "CLM_ID                           int64\n",
              "NCH_NEAR_LINE_REC_IDENT_CD      object\n",
              "NCH_CLM_TYPE_CD                  int64\n",
              "CLM_FROM_DT                     object\n",
              "                                ...   \n",
              "CLM_UNCOMPD_CARE_PMT_AMT       float64\n",
              "CLM_LINE_NUM                     int64\n",
              "REV_CNTR                         int64\n",
              "HCPCS_CD                        object\n",
              "REV_CNTR_DDCTBL_COINSRNC_CD    float64\n",
              "Length: 197, dtype: object"
            ],
            "text/html": [
              "<div>\n",
              "<style scoped>\n",
              "    .dataframe tbody tr th:only-of-type {\n",
              "        vertical-align: middle;\n",
              "    }\n",
              "\n",
              "    .dataframe tbody tr th {\n",
              "        vertical-align: top;\n",
              "    }\n",
              "\n",
              "    .dataframe thead th {\n",
              "        text-align: right;\n",
              "    }\n",
              "</style>\n",
              "<table border=\"1\" class=\"dataframe\">\n",
              "  <thead>\n",
              "    <tr style=\"text-align: right;\">\n",
              "      <th></th>\n",
              "      <th>0</th>\n",
              "    </tr>\n",
              "  </thead>\n",
              "  <tbody>\n",
              "    <tr>\n",
              "      <th>BENE_ID</th>\n",
              "      <td>int64</td>\n",
              "    </tr>\n",
              "    <tr>\n",
              "      <th>CLM_ID</th>\n",
              "      <td>int64</td>\n",
              "    </tr>\n",
              "    <tr>\n",
              "      <th>NCH_NEAR_LINE_REC_IDENT_CD</th>\n",
              "      <td>object</td>\n",
              "    </tr>\n",
              "    <tr>\n",
              "      <th>NCH_CLM_TYPE_CD</th>\n",
              "      <td>int64</td>\n",
              "    </tr>\n",
              "    <tr>\n",
              "      <th>CLM_FROM_DT</th>\n",
              "      <td>object</td>\n",
              "    </tr>\n",
              "    <tr>\n",
              "      <th>...</th>\n",
              "      <td>...</td>\n",
              "    </tr>\n",
              "    <tr>\n",
              "      <th>CLM_UNCOMPD_CARE_PMT_AMT</th>\n",
              "      <td>float64</td>\n",
              "    </tr>\n",
              "    <tr>\n",
              "      <th>CLM_LINE_NUM</th>\n",
              "      <td>int64</td>\n",
              "    </tr>\n",
              "    <tr>\n",
              "      <th>REV_CNTR</th>\n",
              "      <td>int64</td>\n",
              "    </tr>\n",
              "    <tr>\n",
              "      <th>HCPCS_CD</th>\n",
              "      <td>object</td>\n",
              "    </tr>\n",
              "    <tr>\n",
              "      <th>REV_CNTR_DDCTBL_COINSRNC_CD</th>\n",
              "      <td>float64</td>\n",
              "    </tr>\n",
              "  </tbody>\n",
              "</table>\n",
              "<p>197 rows × 1 columns</p>\n",
              "</div><br><label><b>dtype:</b> object</label>"
            ]
          },
          "metadata": {},
          "execution_count": 8
        }
      ]
    },
    {
      "cell_type": "code",
      "source": [
        "# Step 2: Explore the Dataset\n",
        "\n",
        "hcpcs_codes = df[['HCPCS_CD']]\n",
        "icd_codes = df[['ICD_DGNS_CD1', 'ICD_DGNS_CD10', 'ICD_DGNS_CD11',\n",
        "                       'ICD_DGNS_CD12', 'ICD_DGNS_CD13', 'ICD_DGNS_CD14',\n",
        "                       'ICD_DGNS_CD15', 'ICD_DGNS_CD16', 'ICD_DGNS_CD17',\n",
        "                       'ICD_DGNS_CD18', 'ICD_DGNS_CD19', 'ICD_DGNS_CD20',\n",
        "                       'ICD_DGNS_CD2', 'ICD_DGNS_CD21', 'ICD_DGNS_CD22',\n",
        "                       'ICD_DGNS_CD23', 'ICD_DGNS_CD24', 'ICD_DGNS_CD25',\n",
        "                       'ICD_DGNS_CD3', 'ICD_DGNS_CD4']]\n",
        "drg_codes = df[['CLM_DRG_CD','CLM_DRG_OUTLIER_STAY_CD',]]\n",
        "\n",
        "print(hcpcs_codes)\n",
        "print(icd_codes)\n",
        "print(drg_codes)"
      ],
      "metadata": {
        "colab": {
          "base_uri": "https://localhost:8080/"
        },
        "id": "O72S_IokNcHZ",
        "outputId": "c35b1ba0-00fa-40a2-d7d1-56d4c5bc2fd5"
      },
      "execution_count": 29,
      "outputs": [
        {
          "output_type": "stream",
          "name": "stdout",
          "text": [
            "      HCPCS_CD\n",
            "0        99221\n",
            "1        99221\n",
            "2        99024\n",
            "3        73610\n",
            "4        29515\n",
            "...        ...\n",
            "58061    99221\n",
            "58062    99221\n",
            "58063    99221\n",
            "58064    99221\n",
            "58065    99221\n",
            "\n",
            "[58066 rows x 1 columns]\n",
            "      ICD_DGNS_CD1 ICD_DGNS_CD10 ICD_DGNS_CD11 ICD_DGNS_CD12 ICD_DGNS_CD13  \\\n",
            "0           S134XX          E849       Missing       Missing       Missing   \n",
            "1           T7432X       Missing       Missing       Missing       Missing   \n",
            "2           T7432X       Missing       Missing       Missing       Missing   \n",
            "3           S8290X       Missing       Missing       Missing       Missing   \n",
            "4           S8290X       Missing       Missing       Missing       Missing   \n",
            "...            ...           ...           ...           ...           ...   \n",
            "58061       T7432X          Z558       Missing       Missing       Missing   \n",
            "58062         Z733          E669          Z558       Missing       Missing   \n",
            "58063         Z608           R52          E669          Z558       Missing   \n",
            "58064         Z608           R52          E669          Z558       Missing   \n",
            "58065       S93409         Z8669       Missing       Missing       Missing   \n",
            "\n",
            "      ICD_DGNS_CD14 ICD_DGNS_CD15 ICD_DGNS_CD16 ICD_DGNS_CD17 ICD_DGNS_CD18  \\\n",
            "0           Missing       Missing       Missing       Missing       Missing   \n",
            "1           Missing       Missing       Missing       Missing       Missing   \n",
            "2           Missing       Missing       Missing       Missing       Missing   \n",
            "3           Missing       Missing       Missing       Missing       Missing   \n",
            "4           Missing       Missing       Missing       Missing       Missing   \n",
            "...             ...           ...           ...           ...           ...   \n",
            "58061       Missing       Missing       Missing       Missing       Missing   \n",
            "58062       Missing       Missing       Missing       Missing       Missing   \n",
            "58063       Missing       Missing       Missing       Missing       Missing   \n",
            "58064       Missing       Missing       Missing       Missing       Missing   \n",
            "58065       Missing       Missing       Missing       Missing       Missing   \n",
            "\n",
            "      ICD_DGNS_CD19 ICD_DGNS_CD20 ICD_DGNS_CD2 ICD_DGNS_CD21 ICD_DGNS_CD22  \\\n",
            "0           Missing       Missing        R4689       Missing       Missing   \n",
            "1           Missing       Missing         E669       Missing       Missing   \n",
            "2           Missing       Missing         E669       Missing       Missing   \n",
            "3           Missing       Missing       G40909       Missing       Missing   \n",
            "4           Missing       Missing       G40909       Missing       Missing   \n",
            "...             ...           ...          ...           ...           ...   \n",
            "58061       Missing       Missing      T50901A       Missing       Missing   \n",
            "58062       Missing       Missing        F0280       Missing       Missing   \n",
            "58063       Missing       Missing         Z733       Missing       Missing   \n",
            "58064       Missing       Missing         Z733       Missing       Missing   \n",
            "58065       Missing       Missing         I050       Missing       Missing   \n",
            "\n",
            "      ICD_DGNS_CD23 ICD_DGNS_CD24 ICD_DGNS_CD25 ICD_DGNS_CD3 ICD_DGNS_CD4  \n",
            "0           Missing       Missing       Missing         E781         J329  \n",
            "1           Missing       Missing       Missing       C50919      Missing  \n",
            "2           Missing       Missing       Missing       C50929      Missing  \n",
            "3           Missing       Missing       Missing         R569        Z8669  \n",
            "4           Missing       Missing       Missing         R569        Z8669  \n",
            "...             ...           ...           ...          ...          ...  \n",
            "58061       Missing       Missing       Missing         J329         R931  \n",
            "58062       Missing       Missing       Missing      T50901A         J329  \n",
            "58063       Missing       Missing       Missing         G309      T50901A  \n",
            "58064       Missing       Missing       Missing        F0280      T50901A  \n",
            "58065       Missing       Missing       Missing         Z608        G8929  \n",
            "\n",
            "[58066 rows x 20 columns]\n",
            "      CLM_DRG_CD  CLM_DRG_OUTLIER_STAY_CD\n",
            "0          551.0                        0\n",
            "1          951.0                        0\n",
            "2          923.0                        0\n",
            "3          564.0                        0\n",
            "4          564.0                        0\n",
            "...          ...                      ...\n",
            "58061    Missing                        0\n",
            "58062    Missing                        0\n",
            "58063    Missing                        0\n",
            "58064    Missing                        0\n",
            "58065      963.0                        0\n",
            "\n",
            "[58066 rows x 2 columns]\n"
          ]
        }
      ]
    },
    {
      "cell_type": "code",
      "source": [
        "# Step 3: Analyze the Frequency of Each Unique Value\n",
        "# Calculate the frequency of unique values in each codex column\n",
        "\n",
        "# Frequency count for ICD codes\n",
        "icd_frequency = icd_codes.value_counts()\n",
        "print(\"ICD Codes Frequency:\\n\", icd_frequency)\n",
        "\n",
        "# Frequency count for DRG codes\n",
        "drg_frequency = drg_codes.value_counts()\n",
        "print(\"DRG Codes Frequency:\\n\", drg_frequency)\n",
        "\n",
        "# Frequency count for HCPCS codes\n",
        "hcpcs_frequency = hcpcs_codes.value_counts()\n",
        "print(\"HCPCS Codes Frequency:\\n\", hcpcs_frequency)"
      ],
      "metadata": {
        "colab": {
          "base_uri": "https://localhost:8080/"
        },
        "id": "KsvKr4uEN62f",
        "outputId": "9566af64-a7a4-4a66-9a17-81c3a2c603c5"
      },
      "execution_count": 30,
      "outputs": [
        {
          "output_type": "stream",
          "name": "stdout",
          "text": [
            "ICD Codes Frequency:\n",
            " ICD_DGNS_CD1  ICD_DGNS_CD10  ICD_DGNS_CD11  ICD_DGNS_CD12  ICD_DGNS_CD13  ICD_DGNS_CD14  ICD_DGNS_CD15  ICD_DGNS_CD16  ICD_DGNS_CD17  ICD_DGNS_CD18  ICD_DGNS_CD19  ICD_DGNS_CD20  ICD_DGNS_CD2  ICD_DGNS_CD21  ICD_DGNS_CD22  ICD_DGNS_CD23  ICD_DGNS_CD24  ICD_DGNS_CD25  ICD_DGNS_CD3  ICD_DGNS_CD4\n",
            "Z733          E8881          E1121          E669           P292           R7303          D649           Z558           Missing        Missing        Missing        Missing        C3490         Missing        Missing        Missing        Missing        Missing        C3490         R931            154\n",
            "              Missing        Missing        Missing        Missing        Missing        Missing        Missing        Missing        Missing        Missing        Missing        C3490         Missing        Missing        Missing        Missing        Missing        C3490         D649            136\n",
            "Z608          Z558           Z653           Missing        Missing        Missing        Missing        Missing        Missing        Missing        Missing        Missing        C3490         Missing        Missing        Missing        Missing        Missing        C3490         E8881           122\n",
            "C3490         Z653           Missing        Missing        Missing        Missing        Missing        Missing        Missing        Missing        Missing        Missing        C3490         Missing        Missing        Missing        Missing        Missing        E8881         E669            120\n",
            "              Missing        Missing        Missing        Missing        Missing        Missing        Missing        Missing        Missing        Missing        Missing        C3490         Missing        Missing        Missing        Missing        Missing        D649          T7432X          116\n",
            "                                                                                                                                                                                                                                                                                                         ... \n",
            "T7421X        G40909         R569           Z8669          Missing        Missing        Missing        Missing        Missing        Missing        Missing        Missing        Z604          Missing        Missing        Missing        Missing        Missing        Z733          R7303             1\n",
            "              G43719         J439           R7303          D649           Z558           I350           Missing        Missing        Missing        Missing        Missing        Z604          Missing        Missing        Missing        Missing        Missing        Z954          K635              1\n",
            "                             K011           Z653           Z6841          E669           Missing        Missing        Missing        Missing        Missing        Missing        Z733          Missing        Missing        Missing        Missing        Missing        Z608          R931              1\n",
            "              G479           I10            S069           T50901A        E669           R52            G43719         K011           Missing        Missing        Missing        Z608          Missing        Missing        Missing        Missing        Missing        N1830         E1121             1\n",
            "Z98890        P2832          G479           E8881          T50901A        P292           E669           J329           D649           R7303          Missing        Missing        I351          Missing        Missing        Missing        Missing        Missing        I252          I213              1\n",
            "Name: count, Length: 19224, dtype: int64\n",
            "DRG Codes Frequency:\n",
            " CLM_DRG_CD  CLM_DRG_OUTLIER_STAY_CD\n",
            "951.0       0                          28159\n",
            "Missing     0                           3220\n",
            "950.0       0                           1438\n",
            "949.0       0                           1332\n",
            "922.0       0                           1110\n",
            "                                       ...  \n",
            "918.0       0                              1\n",
            "814.0       0                              1\n",
            "819.0       0                              1\n",
            "822.0       0                              1\n",
            "870.0       0                              1\n",
            "Name: count, Length: 189, dtype: int64\n",
            "HCPCS Codes Frequency:\n",
            " HCPCS_CD\n",
            "99221       8298\n",
            "G0444       7990\n",
            "96156       5080\n",
            "99408       4196\n",
            "99495       3867\n",
            "            ... \n",
            "S9374          1\n",
            "S9361          1\n",
            "S9336          1\n",
            "G9829          1\n",
            "S2404          1\n",
            "Name: count, Length: 106, dtype: int64\n"
          ]
        }
      ]
    },
    {
      "cell_type": "code",
      "source": [
        "# Step 4: Handle Missing Data (if any)\n",
        "# Check for missing values in codex-related columns\n",
        "missing_icd = icd_codes.isnull().sum()\n",
        "missing_drg = drg_codes.isnull().sum()\n",
        "missing_hcpcs = hcpcs_codes.isnull().sum()\n",
        "\n",
        "print(f\"Missing ICD Codes: {missing_icd}\")\n",
        "print(f\"Missing DRG Codes: {missing_drg}\")\n",
        "print(f\"Missing HCPCS Codes: {missing_hcpcs}\")"
      ],
      "metadata": {
        "colab": {
          "base_uri": "https://localhost:8080/"
        },
        "id": "yxmTbHe2N_bh",
        "outputId": "56c56052-2226-4c38-c52e-ec0918404917"
      },
      "execution_count": 31,
      "outputs": [
        {
          "output_type": "stream",
          "name": "stdout",
          "text": [
            "Missing ICD Codes: ICD_DGNS_CD1     0\n",
            "ICD_DGNS_CD10    0\n",
            "ICD_DGNS_CD11    0\n",
            "ICD_DGNS_CD12    0\n",
            "ICD_DGNS_CD13    0\n",
            "ICD_DGNS_CD14    0\n",
            "ICD_DGNS_CD15    0\n",
            "ICD_DGNS_CD16    0\n",
            "ICD_DGNS_CD17    0\n",
            "ICD_DGNS_CD18    0\n",
            "ICD_DGNS_CD19    0\n",
            "ICD_DGNS_CD20    0\n",
            "ICD_DGNS_CD2     0\n",
            "ICD_DGNS_CD21    0\n",
            "ICD_DGNS_CD22    0\n",
            "ICD_DGNS_CD23    0\n",
            "ICD_DGNS_CD24    0\n",
            "ICD_DGNS_CD25    0\n",
            "ICD_DGNS_CD3     0\n",
            "ICD_DGNS_CD4     0\n",
            "dtype: int64\n",
            "Missing DRG Codes: CLM_DRG_CD                 0\n",
            "CLM_DRG_OUTLIER_STAY_CD    0\n",
            "dtype: int64\n",
            "Missing HCPCS Codes: HCPCS_CD    0\n",
            "dtype: int64\n"
          ]
        }
      ]
    },
    {
      "cell_type": "code",
      "source": [
        "# Example of handling missing data by filling with a placeholder\n",
        "\n",
        "df['ICD_DGNS_CD1'].fillna('Missing', inplace=True)\n",
        "df['ICD_DGNS_CD2'].fillna('Missing', inplace=True)\n",
        "df['ICD_DGNS_CD3'].fillna('Missing', inplace=True)\n",
        "df['ICD_DGNS_CD4'].fillna('Missing', inplace=True)\n",
        "df['ICD_DGNS_CD10'].fillna('Missing', inplace=True)\n",
        "df['ICD_DGNS_CD11'].fillna('Missing', inplace=True)\n",
        "df['ICD_DGNS_CD12'].fillna('Missing', inplace=True)\n",
        "df['ICD_DGNS_CD13'].fillna('Missing', inplace=True)\n",
        "df['ICD_DGNS_CD14'].fillna('Missing', inplace=True)\n",
        "df['ICD_DGNS_CD15'].fillna('Missing', inplace=True)\n",
        "df['ICD_DGNS_CD16'].fillna('Missing', inplace=True)\n",
        "df['ICD_DGNS_CD17'].fillna('Missing', inplace=True)\n",
        "df['ICD_DGNS_CD18'].fillna('Missing', inplace=True)\n",
        "df['ICD_DGNS_CD19'].fillna('Missing', inplace=True)\n",
        "df['ICD_DGNS_CD20'].fillna('Missing', inplace=True)\n",
        "df['ICD_DGNS_CD21'].fillna('Missing', inplace=True)\n",
        "df['ICD_DGNS_CD22'].fillna('Missing', inplace=True)\n",
        "df['ICD_DGNS_CD23'].fillna('Missing', inplace=True)\n",
        "df['ICD_DGNS_CD24'].fillna('Missing', inplace=True)\n",
        "df['ICD_DGNS_CD25'].fillna('Missing', inplace=True)\n",
        "\n",
        "df['CLM_DRG_CD'].fillna('Missing', inplace=True)\n",
        "df['CLM_DRG_OUTLIER_STAY_CD'].fillna('Missing', inplace=True)\n",
        "\n",
        "df['HCPCS_CD'].fillna('Missing', inplace=True)"
      ],
      "metadata": {
        "id": "EnMlUWfgOGMI"
      },
      "execution_count": 32,
      "outputs": []
    },
    {
      "cell_type": "code",
      "source": [
        "# Step 5: Summary of Findings\n",
        "# Provide a summary of the most common codes\n",
        "# Here we'll just print the top 5 most common codes for each category\n",
        "print(\"Top 5 Most Common ICD Codes:\\n\", icd_frequency.head())\n",
        "print(\"Top 5 Most Common DRG Codes:\\n\", drg_frequency.head())\n",
        "print(\"Top 5 Most Common HCPCS Codes:\\n\", hcpcs_frequency.head())"
      ],
      "metadata": {
        "colab": {
          "base_uri": "https://localhost:8080/"
        },
        "id": "ShqT-itDPccc",
        "outputId": "f852ae0a-1aa6-455c-dc88-90904f9fcf52"
      },
      "execution_count": 33,
      "outputs": [
        {
          "output_type": "stream",
          "name": "stdout",
          "text": [
            "Top 5 Most Common ICD Codes:\n",
            " ICD_DGNS_CD1  ICD_DGNS_CD10  ICD_DGNS_CD11  ICD_DGNS_CD12  ICD_DGNS_CD13  ICD_DGNS_CD14  ICD_DGNS_CD15  ICD_DGNS_CD16  ICD_DGNS_CD17  ICD_DGNS_CD18  ICD_DGNS_CD19  ICD_DGNS_CD20  ICD_DGNS_CD2  ICD_DGNS_CD21  ICD_DGNS_CD22  ICD_DGNS_CD23  ICD_DGNS_CD24  ICD_DGNS_CD25  ICD_DGNS_CD3  ICD_DGNS_CD4\n",
            "Z733          E8881          E1121          E669           P292           R7303          D649           Z558           Missing        Missing        Missing        Missing        C3490         Missing        Missing        Missing        Missing        Missing        C3490         R931            154\n",
            "              Missing        Missing        Missing        Missing        Missing        Missing        Missing        Missing        Missing        Missing        Missing        C3490         Missing        Missing        Missing        Missing        Missing        C3490         D649            136\n",
            "Z608          Z558           Z653           Missing        Missing        Missing        Missing        Missing        Missing        Missing        Missing        Missing        C3490         Missing        Missing        Missing        Missing        Missing        C3490         E8881           122\n",
            "C3490         Z653           Missing        Missing        Missing        Missing        Missing        Missing        Missing        Missing        Missing        Missing        C3490         Missing        Missing        Missing        Missing        Missing        E8881         E669            120\n",
            "              Missing        Missing        Missing        Missing        Missing        Missing        Missing        Missing        Missing        Missing        Missing        C3490         Missing        Missing        Missing        Missing        Missing        D649          T7432X          116\n",
            "Name: count, dtype: int64\n",
            "Top 5 Most Common DRG Codes:\n",
            " CLM_DRG_CD  CLM_DRG_OUTLIER_STAY_CD\n",
            "951.0       0                          28159\n",
            "Missing     0                           3220\n",
            "950.0       0                           1438\n",
            "949.0       0                           1332\n",
            "922.0       0                           1110\n",
            "Name: count, dtype: int64\n",
            "Top 5 Most Common HCPCS Codes:\n",
            " HCPCS_CD\n",
            "99221       8298\n",
            "G0444       7990\n",
            "96156       5080\n",
            "99408       4196\n",
            "99495       3867\n",
            "Name: count, dtype: int64\n"
          ]
        }
      ]
    }
  ]
}